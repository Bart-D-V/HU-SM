{
 "cells": [
  {
   "cell_type": "markdown",
   "metadata": {},
   "source": [
    "## competitie voorspellen met monte carlo simulatie"
   ]
  },
  {
   "cell_type": "markdown",
   "metadata": {},
   "source": [
    "### bij deze monte carlo simulatie word gebruikt gemaakt van middelsquare methode. de seed daarvan word gegenereerd met de congruential methode.\n"
   ]
  },
  {
   "cell_type": "code",
   "execution_count": 7,
   "metadata": {},
   "outputs": [
    {
     "name": "stdout",
     "output_type": "stream",
     "text": [
      "                   Ajax     Feyenoord           PSV     FCUtrecht  \\\n",
      "Ajax               None  [65, 17, 18]  [54, 21, 25]  [74, 14, 12]   \n",
      "Feyenoord  [30, 21, 49]          None  [37, 24, 39]  [51, 22, 27]   \n",
      "PSV        [39, 22, 39]  [54, 22, 24]          None  [62, 20, 18]   \n",
      "FCUtrecht  [25, 14, 61]  [37, 23, 40]  [29, 24, 47]          None   \n",
      "WillemII   [17, 18, 65]  [20, 26, 54]  [23, 24, 53]  [37, 25, 38]   \n",
      "\n",
      "               WillemII  \n",
      "Ajax        [78, 13, 9]  \n",
      "Feyenoord  [60, 21, 19]  \n",
      "PSV        [62, 22, 16]  \n",
      "FCUtrecht  [52, 23, 25]  \n",
      "WillemII           None  \n"
     ]
    }
   ],
   "source": [
    "# import libiaries.\n",
    "\n",
    "import pandas as pd\n",
    "import numpy as np\n",
    "import matplotlib.pyplot as plt\n",
    "import Congruentialmethod as cg\n",
    "import middlesquaremethod as ms\n",
    "\n",
    "# random number generators.\n",
    "\n",
    "Middelsquare = ms.middel_square('633454')\n",
    "\n",
    "Congruential = cg.congruential(7837, 328, 23876, 4321)\n",
    "\n",
    "# import competitie data - win percentages clubs.\n",
    "\n",
    "Ajax      =  [None, [65,17,18], [54,21,25], [74,14,12], [78,13,9]]\n",
    "Feyenoord =  [[30,21,49], None, [37,24,39], [51,22,27], [60,21,19]]\n",
    "PSV       =  [[39,22,39], [54,22,24], None, [62,20,18], [62,22,16]]\n",
    "FCUtrecht =  [[25,14,61], [37,23,40], [29,24,47], None, [52,23,25]]\n",
    "WillemII  =  [[17,18,65], [20,26,54], [23,24,53], [37,25,38], None]\n",
    "\n",
    "\n",
    "teams = [\"Ajax\", \"Feyenoord\", \"PSV\", \"FCUtrecht\", \"WillemII\"]\n",
    "Competitie_kansen = pd.DataFrame([Ajax, Feyenoord, PSV, FCUtrecht, WillemII])\n",
    "Competitie_kansen = Competitie_kansen.set_index(pd.Index(teams))\n",
    "Competitie_kansen.columns = teams\n",
    "              \n",
    "print(Competitie_kansen)"
   ]
  },
  {
   "cell_type": "code",
   "execution_count": 8,
   "metadata": {},
   "outputs": [],
   "source": [
    "# list maken met win percetages.\n",
    "# met random uitslag kiezen door het gebruik van de random nummers van middelsquare method.\n",
    "def Thuis_punten(kans, number):\n",
    "    return ([3]*kans[0] + [1]*kans[1] + [0]*kans[2])[number] if kans != None else None\n",
    "# bepaalt punten uit team.\n",
    "def Wedstrijd_uitslag(thuisPunt):\n",
    "    return (thuisPunt,{3:0, 1:1, 0:3}[thuisPunt]) if thuisPunt != None else None"
   ]
  },
  {
   "cell_type": "code",
   "execution_count": 9,
   "metadata": {},
   "outputs": [],
   "source": [
    "# seizoen simulatie.\n",
    "def seizoen():\n",
    "    # elke competitie krijgt een nieuwe seed voor de number generator door de congruential number generator.\n",
    "    Middelsquare = ms.middel_square(str(next(Congruential)))\n",
    "    \n",
    "    # competitie maken\n",
    "    competitie = {team:0 for team in teams}\n",
    "    \n",
    "    for index, row in Competitie_kansen.iterrows():\n",
    "        \n",
    "        for colum in list(Competitie_kansen):\n",
    "            \n",
    "            # wedstrijd spelen.\n",
    "            thuisPunten = Thuis_punten(Competitie_kansen[colum][index], next(Middelsquare))\n",
    "            wedstrijdUitslag = Wedstrijd_uitslag(thuisPunten)\n",
    "            \n",
    "            # punten optellen.\n",
    "            if wedstrijdUitslag != None:\n",
    "                competitie[index] += wedstrijdUitslag[0]\n",
    "                competitie[colum] += wedstrijdUitslag[1]\n",
    "                \n",
    "    competitieUitslag = pd.Series(competitie).sort_values(ascending=False)\n",
    "    \n",
    "    return competitieUitslag"
   ]
  },
  {
   "cell_type": "code",
   "execution_count": 10,
   "metadata": {},
   "outputs": [
    {
     "data": {
      "text/plain": [
       "Ajax         24\n",
       "FCUtrecht    10\n",
       "PSV          10\n",
       "Feyenoord     9\n",
       "WillemII      6\n",
       "dtype: int64"
      ]
     },
     "execution_count": 10,
     "metadata": {},
     "output_type": "execute_result"
    }
   ],
   "source": [
    "seizoen()"
   ]
  },
  {
   "cell_type": "code",
   "execution_count": 11,
   "metadata": {},
   "outputs": [],
   "source": [
    "# monte carlo Simulatie maken voor de competitie.\n",
    "def monte_carlo(n):\n",
    "    \n",
    "    # winkans tabel aanmaken.\n",
    "    scorebord = {i+1:0 for i in range(len(teams))}\n",
    "    teamPuntenScore = {team: scorebord.copy() for team in teams}\n",
    "    \n",
    "    for x in range(n):\n",
    "        \n",
    "        # seizoen spelen.\n",
    "        uitslag = seizoen()\n",
    "        i = 0\n",
    "        \n",
    "        # eindstand optellen.\n",
    "        for t, p in uitslag.iteritems():\n",
    "            \n",
    "            teamPuntenScore[t][i+1] += 1\n",
    "            i += 1 \n",
    "    \n",
    "    return (pd.DataFrame.from_dict(teamPuntenScore, orient='index') / n) * 100"
   ]
  },
  {
   "cell_type": "code",
   "execution_count": 13,
   "metadata": {},
   "outputs": [
    {
     "data": {
      "text/html": [
       "<div>\n",
       "<style scoped>\n",
       "    .dataframe tbody tr th:only-of-type {\n",
       "        vertical-align: middle;\n",
       "    }\n",
       "\n",
       "    .dataframe tbody tr th {\n",
       "        vertical-align: top;\n",
       "    }\n",
       "\n",
       "    .dataframe thead th {\n",
       "        text-align: right;\n",
       "    }\n",
       "</style>\n",
       "<table border=\"1\" class=\"dataframe\">\n",
       "  <thead>\n",
       "    <tr style=\"text-align: right;\">\n",
       "      <th></th>\n",
       "      <th>1</th>\n",
       "      <th>2</th>\n",
       "      <th>3</th>\n",
       "      <th>4</th>\n",
       "      <th>5</th>\n",
       "    </tr>\n",
       "  </thead>\n",
       "  <tbody>\n",
       "    <tr>\n",
       "      <th>Ajax</th>\n",
       "      <td>48.5</td>\n",
       "      <td>22.9</td>\n",
       "      <td>10.0</td>\n",
       "      <td>7.4</td>\n",
       "      <td>11.2</td>\n",
       "    </tr>\n",
       "    <tr>\n",
       "      <th>Feyenoord</th>\n",
       "      <td>11.9</td>\n",
       "      <td>20.4</td>\n",
       "      <td>25.4</td>\n",
       "      <td>27.1</td>\n",
       "      <td>15.2</td>\n",
       "    </tr>\n",
       "    <tr>\n",
       "      <th>PSV</th>\n",
       "      <td>26.5</td>\n",
       "      <td>30.4</td>\n",
       "      <td>25.0</td>\n",
       "      <td>12.5</td>\n",
       "      <td>5.6</td>\n",
       "    </tr>\n",
       "    <tr>\n",
       "      <th>FCUtrecht</th>\n",
       "      <td>7.1</td>\n",
       "      <td>12.4</td>\n",
       "      <td>25.5</td>\n",
       "      <td>32.6</td>\n",
       "      <td>22.4</td>\n",
       "    </tr>\n",
       "    <tr>\n",
       "      <th>WillemII</th>\n",
       "      <td>6.0</td>\n",
       "      <td>13.9</td>\n",
       "      <td>14.1</td>\n",
       "      <td>20.4</td>\n",
       "      <td>45.6</td>\n",
       "    </tr>\n",
       "  </tbody>\n",
       "</table>\n",
       "</div>"
      ],
      "text/plain": [
       "              1     2     3     4     5\n",
       "Ajax       48.5  22.9  10.0   7.4  11.2\n",
       "Feyenoord  11.9  20.4  25.4  27.1  15.2\n",
       "PSV        26.5  30.4  25.0  12.5   5.6\n",
       "FCUtrecht   7.1  12.4  25.5  32.6  22.4\n",
       "WillemII    6.0  13.9  14.1  20.4  45.6"
      ]
     },
     "execution_count": 13,
     "metadata": {},
     "output_type": "execute_result"
    }
   ],
   "source": [
    "monte_carlo(1000)"
   ]
  }
 ],
 "metadata": {
  "kernelspec": {
   "display_name": "Python 3",
   "language": "python",
   "name": "python3"
  },
  "language_info": {
   "codemirror_mode": {
    "name": "ipython",
    "version": 3
   },
   "file_extension": ".py",
   "mimetype": "text/x-python",
   "name": "python",
   "nbconvert_exporter": "python",
   "pygments_lexer": "ipython3",
   "version": "3.7.6"
  }
 },
 "nbformat": 4,
 "nbformat_minor": 4
}
